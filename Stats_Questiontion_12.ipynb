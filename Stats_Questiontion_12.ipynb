{
 "cells": [
  {
   "cell_type": "markdown",
   "id": "6c33d8d2",
   "metadata": {},
   "source": [
    "## Q-12. \n",
    "### A pharmaceutical company develops a new drug and wants to compare its effectiveness against a standard drug for treating a particular condition. They conduct a study with two groups: Group A receives the new drug, and Group B receives the standard drug. The company measures the improvement in a specific symptom for both groups after a 4-week treatment period.\n",
    "- a. The company collects data from 30 patients in each group and calculates the mean improvement score and the standard deviation of improvement for each group. The mean improvement score for Group A is 2.5 with a standard deviation of 0.8, while the mean improvement score for Group B is 2.2 with a standard deviation of 0.6. Conduct a t-test to determine if there is a significant difference in the mean improvement scores between the two groups. Use a significance level of 0.05.\n",
    "- b. Based on the t-test results, state whether the null hypothesis should be rejected or not. Provide a conclusion in the context of the study.\n"
   ]
  },
  {
   "cell_type": "code",
   "execution_count": 1,
   "id": "c18b1070",
   "metadata": {},
   "outputs": [
    {
     "name": "stdout",
     "output_type": "stream",
     "text": [
      "T-Test Results:\n",
      "\n",
      "t-statistic: 1.6431676725154976\n",
      "p-value: 0.10575916705583671\n",
      "\n",
      "As p_value : 0.10575916705583671 >= significance_level/alpha : 0.05\n",
      "No,There is no significant difference in the means of the two groups.\n",
      "Fail to reject the null hypothesis\n"
     ]
    }
   ],
   "source": [
    "## a.\n",
    "\n",
    "import scipy.stats as stats\n",
    "\n",
    "# Group A data\n",
    "mean_a = 2.5\n",
    "std_a = 0.8\n",
    "n_a = 30\n",
    "\n",
    "# Group B data\n",
    "mean_b = 2.2\n",
    "std_b = 0.6\n",
    "n_b = 30\n",
    "\n",
    "# Perform independent t-test\n",
    "t_statistic, p_value = stats.ttest_ind_from_stats(mean_a, std_a, n_a, mean_b, std_b, n_b)\n",
    "\n",
    "# Print the results\n",
    "print(\"T-Test Results:\")\n",
    "print()\n",
    "print(\"t-statistic:\", t_statistic)\n",
    "print(\"p-value:\", p_value)\n",
    "print()\n",
    "\n",
    "alpha=0.05\n",
    "if p_value < alpha:\n",
    "    print(f\"As p_value : {p_value} < significance_level/alpha : {alpha}\")\n",
    "    print(\"Yes,There is a equality of mean for between all the classes\")\n",
    "    print(\"Reject the null hypothesis\")\n",
    "    print(\"There is a significant difference in the means of the two groups.\")\n",
    "elif p_value >= alpha: \n",
    "    print(f\"As p_value : {p_value} >= significance_level/alpha : {alpha}\")\n",
    "    print(\"No,There is no significant difference in the means of the two groups.\")\n",
    "    print(\"Fail to reject the null hypothesis\")\n",
    "    \n",
    "    \n",
    "    \n"
   ]
  },
  {
   "cell_type": "code",
   "execution_count": 2,
   "id": "0b77e079",
   "metadata": {},
   "outputs": [
    {
     "name": "stdout",
     "output_type": "stream",
     "text": [
      "As p_value : 0.10575916705583671 >= significance_level/alpha : 0.05\n",
      "No,There is no significant difference in the means of the two groups.\n",
      "Fail to reject the null hypothesis\n",
      "\n",
      "\n",
      "To Provide a conclusion in the context of the study.\n",
      "-------------------------------------------------------\n",
      "\n",
      "According to the t-test results, there is no significant difference in mean improvement scores between \n",
      "Group A (getting the new treatment) and Group B (receiving the standard drug) for treating the specific ailment. \n",
      "As a result, the study provides no evidence to support the claim that the new medicine is more effective than the traditional drug.\n",
      "\n",
      "It is important to highlight that this finding is based on the unique sample of patients included in the study. \n",
      "\n",
      "More study with a bigger sample size or varied patient demographics may be required to make more definitive conclusions. \n",
      "Other aspects, such as side effects, cost-effectiveness, and patient preferences, \n",
      "should also be addressed while making treatment selections.\n",
      "\n",
      "\n"
     ]
    }
   ],
   "source": [
    "## b.\n",
    "\n",
    "print(f\"As p_value : {p_value} >= significance_level/alpha : {alpha}\")\n",
    "print(\"No,There is no significant difference in the means of the two groups.\")\n",
    "print(\"Fail to reject the null hypothesis\")\n",
    "print()\n",
    "print()\n",
    "print(\"To Provide a conclusion in the context of the study.\")\n",
    "print(\"-------------------------------------------------------\")\n",
    "print(\"\"\"\n",
    "According to the t-test results, there is no significant difference in mean improvement scores between \n",
    "Group A (getting the new treatment) and Group B (receiving the standard drug) for treating the specific ailment. \n",
    "As a result, the study provides no evidence to support the claim that the new medicine is more effective than the traditional drug.\n",
    "\n",
    "It is important to highlight that this finding is based on the unique sample of patients included in the study. \n",
    "\n",
    "More study with a bigger sample size or varied patient demographics may be required to make more definitive conclusions. \n",
    "Other aspects, such as side effects, cost-effectiveness, and patient preferences, \n",
    "should also be addressed while making treatment selections.\n",
    "\n",
    "\"\"\")"
   ]
  },
  {
   "cell_type": "code",
   "execution_count": null,
   "id": "1d0e7283",
   "metadata": {},
   "outputs": [],
   "source": []
  }
 ],
 "metadata": {
  "kernelspec": {
   "display_name": "Python 3 (ipykernel)",
   "language": "python",
   "name": "python3"
  },
  "language_info": {
   "codemirror_mode": {
    "name": "ipython",
    "version": 3
   },
   "file_extension": ".py",
   "mimetype": "text/x-python",
   "name": "python",
   "nbconvert_exporter": "python",
   "pygments_lexer": "ipython3",
   "version": "3.10.9"
  }
 },
 "nbformat": 4,
 "nbformat_minor": 5
}
