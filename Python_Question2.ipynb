{
 "cells": [
  {
   "attachments": {},
   "cell_type": "markdown",
   "metadata": {},
   "source": [
    "Question 2: -\n",
    "Consider a string to be valid if all characters of the string appear the same number of times. It is also valid if\n",
    "he can remove just one character at the index in the string, and the remaining characters will occur the same\n",
    "number of times. Given a string, determine if it is valid. If so, return YES , otherwise return NO .\n",
    "\n",
    "Note - You have to write at least 2 additional test cases in which your program will run successfully and provide\n",
    "an explanation for the same.\n",
    "Example input 1 - s = “abc”. This is a valid string because frequencies are { “a”: 1, “b”: 1, “c”: 1 }\n",
    "Example output 1- YES\n",
    "Example input 2 - s “abcc”. This string is not valid as we can remove only 1 occurrence of “c”. That leaves\n",
    "character frequencies of { “a”: 1, “b”: 1 , “c”: 2 }\n",
    "Example output 2 - NO"
   ]
  },
  {
   "cell_type": "code",
   "execution_count": 3,
   "metadata": {},
   "outputs": [],
   "source": [
    "def is_valid(string):\n",
    "  \n",
    "  # Create a dictionary of the character frequencies in the string.\n",
    "\n",
    "  frequencies = {}\n",
    "  for character in string:\n",
    "\n",
    "    # Increment the count for each character that is already in the dictionary.\n",
    "\n",
    "    # If the character is not in the dictionary, add it to the dictionary with a count of 1.\n",
    "\n",
    "    frequencies[character] = frequencies.get(character, 0) + 1\n",
    "\n",
    "  \"\"\"Checking if the dictionary has only one key. If it does, the string is valid.\n",
    "\n",
    "  If the dictionary has more than one key, check if all of the values in the dictionary are equal.If they are, the string is valid.\n",
    "  \n",
    "  If the values in the dictionary are not equal, the string is not valid.\"\"\"\n",
    "\n",
    "  if len(frequencies) == 1:\n",
    "    return True\n",
    "  elif len(frequencies) > 1:\n",
    "    for character in frequencies:\n",
    "      \n",
    "      # Checking  if the frequency of the current character is equal to the frequency of the first character in the dictionary.\n",
    "\n",
    "      if frequencies[character] != frequencies[list(frequencies.keys())[0]]:\n",
    "        return False\n",
    "    return True\n",
    "  else:\n",
    "    return False\n"
   ]
  },
  {
   "cell_type": "code",
   "execution_count": 5,
   "metadata": {},
   "outputs": [
    {
     "data": {
      "text/plain": [
       "True"
      ]
     },
     "execution_count": 5,
     "metadata": {},
     "output_type": "execute_result"
    }
   ],
   "source": [
    "is_valid('abc')"
   ]
  },
  {
   "cell_type": "code",
   "execution_count": null,
   "metadata": {},
   "outputs": [],
   "source": [
    "test_cases = [\n",
    "  (\"abc\", True),\n",
    "  (\"a\", True)\n",
    "]\n",
    "\n",
    "for input_string, expected_output in test_cases:\n",
    "  actual_output = is_valid(input_string)\n",
    "  if actual_output == expected_output:\n",
    "    print(\"Test case passed.\")\n",
    "  else:\n",
    "    print(\"Test case failed.\")\n",
    "\n",
    "**Test case 1:**\n",
    "\n",
    "string = \"abc\"\n",
    "\n",
    "expected_output = True\n",
    "\n",
    "explanation:\n",
    "\n",
    "The string \"abc\" has all characters occurring the same number of times (once). Therefore, the string is valid.\n",
    "**Test case 3:**\n",
    "\n",
    "string = \"a\"\n",
    "\n",
    "expected_output = True\n",
    "\n",
    "explanation:\n"
   ]
  }
 ],
 "metadata": {
  "kernelspec": {
   "display_name": "Python 3.10.9",
   "language": "python",
   "name": "python3"
  },
  "language_info": {
   "codemirror_mode": {
    "name": "ipython",
    "version": 3
   },
   "file_extension": ".py",
   "mimetype": "text/x-python",
   "name": "python",
   "nbconvert_exporter": "python",
   "pygments_lexer": "ipython3",
   "version": "3.10.9"
  },
  "orig_nbformat": 4,
  "vscode": {
   "interpreter": {
    "hash": "3c06e3e46abf38078fe4dac36a0085ec2b134ebbd73dd076183d243eeca6918f"
   }
  }
 },
 "nbformat": 4,
 "nbformat_minor": 2
}
