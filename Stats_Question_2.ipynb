{
 "cells": [
  {
   "attachments": {},
   "cell_type": "markdown",
   "metadata": {},
   "source": [
    "Q-2. Consider a dataset containing the heights (in centimeters) of 1000 individuals. The mean height is 170 cm with a standard deviation of 10 cm. The dataset is approximately normally distributed, and its skewness is approximately zero. Based on this information, answer the following questions:"
   ]
  },
  {
   "cell_type": "code",
   "execution_count": 2,
   "metadata": {},
   "outputs": [],
   "source": [
    "# Given\n",
    "mean_height = 170\n",
    "std_dev = 10\n",
    "sample_size = 1000"
   ]
  },
  {
   "attachments": {},
   "cell_type": "markdown",
   "metadata": {},
   "source": [
    "a. What percentage of individuals in the dataset have heights between 160 cm\n",
    "and 180 cm?"
   ]
  },
  {
   "cell_type": "code",
   "execution_count": 3,
   "metadata": {},
   "outputs": [
    {
     "name": "stdout",
     "output_type": "stream",
     "text": [
      "Percentage of individuals with heights between 160 cm and 180 cm: 68.27%\n"
     ]
    }
   ],
   "source": [
    "import scipy.stats as stats\n",
    "z1 = (160 - mean_height) / std_dev\n",
    "z2 = (180 - mean_height) / std_dev\n",
    "percentage_within_range = stats.norm.cdf(z2) - stats.norm.cdf(z1)\n",
    "# the cumulative distribution function (cdf) of the standard normal distribution,\n",
    "percentage_within_range *= 100\n",
    "print(f\"Percentage of individuals with heights between 160 cm and 180 cm: {percentage_within_range:.2f}%\")\n"
   ]
  },
  {
   "attachments": {},
   "cell_type": "markdown",
   "metadata": {},
   "source": [
    "b. If we randomly select 100 individuals from the dataset, what is the probability that their average height is greater than 175 cm?"
   ]
  },
  {
   "cell_type": "code",
   "execution_count": 4,
   "metadata": {},
   "outputs": [
    {
     "name": "stdout",
     "output_type": "stream",
     "text": [
      "Probability that the average height of 100 individuals is greater than 175 cm: 0.0000\n"
     ]
    }
   ],
   "source": [
    "sample_mean = mean_height\n",
    "sample_std_dev = std_dev / (sample_size ** 0.5)\n",
    "z_score = (175 - sample_mean) / sample_std_dev\n",
    "probability_greater_than_175 = 1 - stats.norm.cdf(z_score)\n",
    "print(f\"Probability that the average height of 100 individuals is greater than 175 cm: {probability_greater_than_175:.4f}\")"
   ]
  },
  {
   "attachments": {},
   "cell_type": "markdown",
   "metadata": {},
   "source": [
    "c. Assuming the dataset follows a normal distribution, what is the z-score\n",
    "corresponding to a height of 185 cm?"
   ]
  },
  {
   "cell_type": "code",
   "execution_count": 5,
   "metadata": {},
   "outputs": [
    {
     "name": "stdout",
     "output_type": "stream",
     "text": [
      "Z-score corresponding to a height of 185 cm: 1.50\n"
     ]
    }
   ],
   "source": [
    "height = 185\n",
    "z_score = (height - mean_height) / std_dev\n",
    "print(f\"Z-score corresponding to a height of 185 cm: {z_score:.2f}\")"
   ]
  },
  {
   "attachments": {},
   "cell_type": "markdown",
   "metadata": {},
   "source": [
    "d. We know that 5% of the dataset has heights below a certain value. What is\n",
    "the approximate height corresponding to this threshold?"
   ]
  },
  {
   "cell_type": "code",
   "execution_count": 6,
   "metadata": {},
   "outputs": [
    {
     "name": "stdout",
     "output_type": "stream",
     "text": [
      "Approximate height corresponding to the 5% threshold: 153.55 cm\n"
     ]
    }
   ],
   "source": [
    "z_threshold = stats.norm.ppf(0.05)\n",
    "height_threshold = z_threshold * std_dev + mean_height\n",
    "print(f\"Approximate height corresponding to the 5% threshold: {height_threshold:.2f} cm\")"
   ]
  },
  {
   "attachments": {},
   "cell_type": "markdown",
   "metadata": {},
   "source": [
    "\n",
    "e. Calculate the coefficient of variation (CV) for the dataset."
   ]
  },
  {
   "cell_type": "code",
   "execution_count": 7,
   "metadata": {},
   "outputs": [
    {
     "name": "stdout",
     "output_type": "stream",
     "text": [
      "Coefficient of Variation (CV): 5.88\n"
     ]
    }
   ],
   "source": [
    "cv = (std_dev / mean_height) * 100\n",
    "print(f\"Coefficient of Variation (CV): {cv:.2f}\")"
   ]
  },
  {
   "attachments": {},
   "cell_type": "markdown",
   "metadata": {},
   "source": [
    "f. Calculate the skewness of the dataset and interpret the result."
   ]
  },
  {
   "cell_type": "code",
   "execution_count": 8,
   "metadata": {},
   "outputs": [
    {
     "name": "stdout",
     "output_type": "stream",
     "text": [
      "Skewness of the dataset: 0\n"
     ]
    }
   ],
   "source": [
    "skewness = 0 \n",
    "print(f\"Skewness of the dataset: {skewness}\")"
   ]
  }
 ],
 "metadata": {
  "kernelspec": {
   "display_name": "Python 3.10.9",
   "language": "python",
   "name": "python3"
  },
  "language_info": {
   "codemirror_mode": {
    "name": "ipython",
    "version": 3
   },
   "file_extension": ".py",
   "mimetype": "text/x-python",
   "name": "python",
   "nbconvert_exporter": "python",
   "pygments_lexer": "ipython3",
   "version": "3.10.9"
  },
  "orig_nbformat": 4,
  "vscode": {
   "interpreter": {
    "hash": "3c06e3e46abf38078fe4dac36a0085ec2b134ebbd73dd076183d243eeca6918f"
   }
  }
 },
 "nbformat": 4,
 "nbformat_minor": 2
}
