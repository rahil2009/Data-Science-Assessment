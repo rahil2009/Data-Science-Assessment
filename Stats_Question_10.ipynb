{
 "cells": [
  {
   "cell_type": "code",
   "execution_count": null,
   "metadata": {},
   "outputs": [],
   "source": []
  },
  {
   "cell_type": "markdown",
   "metadata": {},
   "source": [
    "Q-10. A factory produces light bulbs, and the probability of a bulb being defective is 0.05.\n",
    "The factory produces a large batch of 500 light bulbs.\n",
    "a. What is the probability that exactly 20 bulbs are defective?\n",
    "b. What is the probability that at least 10 bulbs are defective?\n",
    "c. What is the probability that at max 15 bulbs are defective?\n",
    "d. On average, how many defective bulbs would you expect in a batch of 500?"
   ]
  },
  {
   "cell_type": "code",
   "execution_count": 2,
   "metadata": {},
   "outputs": [
    {
     "name": "stdout",
     "output_type": "stream",
     "text": [
      "The probability that exactly 20 bulbs are defective is approximately 0.052\n",
      "The probability that at least 10 bulbs are defective is approximately 1.000\n",
      "The probability that at max 15 bulbs are defective is approximately 0.020\n",
      "On average, you would expect 25.00 defective bulbs in a batch of 500.\n"
     ]
    }
   ],
   "source": [
    "from scipy.stats import binom\n",
    "\n",
    "n = 500\n",
    "p = 0.05\n",
    "\n",
    "# Probability mass function (PMF)\n",
    "pmf = binom.pmf(range(n+1), n, p)\n",
    "\n",
    "# Cumulative distribution function (CDF)\n",
    "cdf = pmf.cumsum()\n",
    "\n",
    "# a. Probability that exactly 20 bulbs are defective\n",
    "P_X_equals_20 = pmf[20]\n",
    "print(f\"The probability that exactly 20 bulbs are defective is approximately {P_X_equals_20:.3f}\")\n",
    "\n",
    "# b. Probability that at least 10 bulbs are defective\n",
    "P_X_at_least_10 = 1 - cdf[9]\n",
    "print(f\"The probability that at least 10 bulbs are defective is approximately {P_X_at_least_10:.3f}\")\n",
    "\n",
    "# c. Probability that at max 15 bulbs are defective\n",
    "P_X_less_than_or_equal_to_15 = cdf[15]\n",
    "print(f\"The probability that at max 15 bulbs are defective is approximately {P_X_less_than_or_equal_to_15:.3f}\")\n",
    "\n",
    "# d. Expected number of defective bulbs in a batch of 500\n",
    "expected_value = n * p\n",
    "print(f\"On average, you would expect {expected_value:.2f} defective bulbs in a batch of {n}.\")\n"
   ]
  }
 ],
 "metadata": {
  "kernelspec": {
   "display_name": "Python 3.10.9",
   "language": "python",
   "name": "python3"
  },
  "language_info": {
   "codemirror_mode": {
    "name": "ipython",
    "version": 3
   },
   "file_extension": ".py",
   "mimetype": "text/x-python",
   "name": "python",
   "nbconvert_exporter": "python",
   "pygments_lexer": "ipython3",
   "version": "3.10.9"
  },
  "orig_nbformat": 4,
  "vscode": {
   "interpreter": {
    "hash": "3c06e3e46abf38078fe4dac36a0085ec2b134ebbd73dd076183d243eeca6918f"
   }
  }
 },
 "nbformat": 4,
 "nbformat_minor": 2
}
