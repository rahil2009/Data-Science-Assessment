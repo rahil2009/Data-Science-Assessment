{
 "cells": [
  {
   "attachments": {},
   "cell_type": "markdown",
   "metadata": {},
   "source": [
    "Q-5. A certain city has two taxi companies: Company A has 80% of the taxis and\n",
    "Company B has 20% of the taxis. Company A's taxis have a 95% success rate for picking up passengers on time, while Company B's taxis have a 90% success rate. If a randomly selected taxi is late, what is the probability that it belongs to Company A?"
   ]
  },
  {
   "cell_type": "code",
   "execution_count": 5,
   "metadata": {},
   "outputs": [
    {
     "name": "stdout",
     "output_type": "stream",
     "text": [
      "The probability that a randomly selected taxi is from Company A given that it is late is: 0.8085106382978723  or  80.85106382978722 %\n"
     ]
    }
   ],
   "source": [
    "# Define the probabilities\n",
    "p_a = 0.8\n",
    "p_b = 0.2\n",
    "p_l_success_a = 0.95\n",
    "p_l_success_b = 0.90\n",
    "\n",
    "# Calculate the probability using Bayes' theorem\n",
    "p_a_success_1 = (p_l_success_a * p_a) / ((p_l_success_a * p_a) + (p_l_success_b * p_b))\n",
    "\n",
    "# Print the result\n",
    "print(\"The probability that a randomly selected taxi is from Company A given that it is late is:\", p_a_success_1 ,\" or \", p_a_success_1*100, \"%\")\n"
   ]
  }
 ],
 "metadata": {
  "kernelspec": {
   "display_name": "base",
   "language": "python",
   "name": "python3"
  },
  "language_info": {
   "codemirror_mode": {
    "name": "ipython",
    "version": 3
   },
   "file_extension": ".py",
   "mimetype": "text/x-python",
   "name": "python",
   "nbconvert_exporter": "python",
   "pygments_lexer": "ipython3",
   "version": "3.9.12"
  },
  "orig_nbformat": 4
 },
 "nbformat": 4,
 "nbformat_minor": 2
}
