{
 "cells": [
  {
   "cell_type": "markdown",
   "id": "d0e62d42",
   "metadata": {},
   "source": [
    "## Q-8. \n",
    "### The anxiety levels of 10 participants were measured before and after a new therapy. The scores are not normally distributed. Use the Wilcoxon signed-rank test to test whether the therapy had a significant effect on anxiety levels."
   ]
  },
  {
   "cell_type": "code",
   "execution_count": 1,
   "id": "f310f3e6",
   "metadata": {},
   "outputs": [
    {
     "name": "stdout",
     "output_type": "stream",
     "text": [
      "Wilcoxon statistic: 0.0\n",
      "p-value: 0.001953125\n",
      "\n",
      "As pvalue : 0.001953125 < significance_level : 0.05\n",
      "Yes,The therapy had a significant effect on anxiety levels (reject null hypothesis)\n"
     ]
    }
   ],
   "source": [
    "import scipy.stats as stats\n",
    "import pandas as pd\n",
    "\n",
    "# Read data from Excel file\n",
    "data = pd.read_excel('therapy.xlsx')\n",
    "\n",
    "\n",
    "# Extract the required columns\n",
    "before_therapy = data['before therapy']\n",
    "after_therapy = data['after therapy']\n",
    "difference = data['difference']\n",
    "\n",
    "# Perform Wilcoxon signed-rank test\n",
    "statistic, p_value = stats.wilcoxon(difference)   # returns the test statistic and the p-value.\n",
    "\n",
    "print(\"Wilcoxon statistic:\", statistic)\n",
    "print(\"p-value:\", p_value)\n",
    "print()\n",
    "\n",
    "# Interpret the results\n",
    "significance_level= 0.05\n",
    "if p_value < 0.05:\n",
    "    print(f\"As pvalue : {p_value} < significance_level : {significance_level}\")\n",
    "    print(\"Yes,The therapy had a significant effect on anxiety levels (reject null hypothesis)\")\n",
    "elif p_value >= 0.05:\n",
    "    print(f\"As p_value : {p_value} >= significance_level : {significance_level}\")\n",
    "    print(\"The therapy did not have a significant effect on anxiety levels (fail to reject null hypothesis)\")\n"
   ]
  },
  {
   "cell_type": "code",
   "execution_count": null,
   "id": "513b61e5",
   "metadata": {},
   "outputs": [],
   "source": []
  }
 ],
 "metadata": {
  "kernelspec": {
   "display_name": "Python 3 (ipykernel)",
   "language": "python",
   "name": "python3"
  },
  "language_info": {
   "codemirror_mode": {
    "name": "ipython",
    "version": 3
   },
   "file_extension": ".py",
   "mimetype": "text/x-python",
   "name": "python",
   "nbconvert_exporter": "python",
   "pygments_lexer": "ipython3",
   "version": "3.10.9"
  }
 },
 "nbformat": 4,
 "nbformat_minor": 5
}
