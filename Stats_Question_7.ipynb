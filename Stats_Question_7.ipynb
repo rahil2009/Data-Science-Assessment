{
 "cells": [
  {
   "cell_type": "markdown",
   "id": "2a758f59",
   "metadata": {},
   "source": [
    "## Q-7. \n",
    "### The equations of two lines of regression, obtained in a correlation analysis between variables X and Y are as follows: and . 2𝑋 + 3 − 8 = 0 2𝑌 + 𝑋 − 5 = 0 The variance of 𝑋 = 4 Find the\n",
    "- a. Variance of Y\n",
    "- b. Coefficient of determination of C and Y\n",
    "- c. Standard error of estimate of X on Y and of Y on X.\n"
   ]
  },
  {
   "cell_type": "code",
   "execution_count": 1,
   "id": "c36c040a",
   "metadata": {},
   "outputs": [
    {
     "name": "stdout",
     "output_type": "stream",
     "text": [
      "Rearranged Equation 1:\n",
      "Y = -0.5X + 2.5\n",
      "\n",
      "Regression coefficient (b_yx): -0.5\n",
      "\n",
      "Rearranged Equation 2:\n",
      "X = 4.0 + -1.5Y\n",
      "\n",
      "Regression coefficient (b_xy): -1.5\n",
      "\n",
      "Correlation coefficient (r): 0.8660254037844386\n"
     ]
    }
   ],
   "source": [
    "#question 7\n",
    "import math\n",
    "\n",
    "# Define the equations\n",
    "equation1 = \"2Y = 5 - X\"\n",
    "equation2 = \"2X = 8 - 3Y\"\n",
    "\n",
    "# Extract the coefficients from equation12Y = 5 - X\n",
    "\n",
    "eq1_constant = 5\n",
    "eq1_coeff_x = -1\n",
    "eq1_coeff_y = 2\n",
    "\n",
    "# Extract the coefficients from equation2\n",
    "eq2_constant = 8\n",
    "eq2_coeff_x = 2\n",
    "eq2_coeff_y = -3\n",
    "\n",
    "# Rearrange equation1 to isolate Y\n",
    "equation1_rearranged = f\"Y = {eq1_coeff_x/eq1_coeff_y}X + {eq1_constant/eq1_coeff_y}\"\n",
    "\n",
    "# Calculate b_yx (byx)\n",
    "byx = eq1_coeff_x / eq1_coeff_y\n",
    "\n",
    "# Rearrange equation2 to isolate X\n",
    "equation2_rearranged = f\"X = {eq2_constant/eq2_coeff_x} + {eq2_coeff_y/eq2_coeff_x}Y\"\n",
    "\n",
    "# Calculate b_xy (bxy)\n",
    "bxy = eq2_coeff_y / eq2_coeff_x\n",
    "\n",
    "# Calculate the correlation coefficient (r)\n",
    "r = math.sqrt(bxy * byx)\n",
    "\n",
    "# Print the rearranged equations and regression coefficients\n",
    "print(\"Rearranged Equation 1:\")\n",
    "print(equation1_rearranged)\n",
    "print()\n",
    "print(\"Regression coefficient (b_yx):\", byx)\n",
    "print()\n",
    "print(\"Rearranged Equation 2:\")\n",
    "print(equation2_rearranged)\n",
    "print()\n",
    "print(\"Regression coefficient (b_xy):\", bxy)\n",
    "print()\n",
    "print(\"Correlation coefficient (r):\", r)\n"
   ]
  },
  {
   "cell_type": "code",
   "execution_count": 2,
   "id": "1d936295",
   "metadata": {},
   "outputs": [
    {
     "name": "stdout",
     "output_type": "stream",
     "text": [
      "a: To find Variance of Y\n",
      "---------------------------\n",
      "Variance of Y: 1.0\n"
     ]
    }
   ],
   "source": [
    "#a\n",
    "print(\"a: To find Variance of Y\")\n",
    "print(\"---------------------------\")\n",
    "# Given values\n",
    "var_x = 4\n",
    "correlation_coefficient = 0.8660254037844386\n",
    "\n",
    "# Calculate the variance of Y\n",
    "var_y = (1 - correlation_coefficient**2) * var_x\n",
    "\n",
    "# Print the variance of Y\n",
    "print(\"Variance of Y:\", round(var_y,3))\n"
   ]
  },
  {
   "cell_type": "code",
   "execution_count": 3,
   "id": "2de71ff8",
   "metadata": {},
   "outputs": [
    {
     "name": "stdout",
     "output_type": "stream",
     "text": [
      "b: To find Coefficient of determination of C and Y\n",
      "----------------------------------------------------\n",
      "Coefficient of Determination (R^2): 0.7499999999999999\n",
      "Since there is no information or equation related to Independent variable C\n",
      "It is not possible to calculate the coefficient of determination between C and Y.\n"
     ]
    }
   ],
   "source": [
    "#b\n",
    "print(\"b: To find Coefficient of determination of C and Y\")\n",
    "print(\"----------------------------------------------------\")\n",
    "\n",
    "# Given correlation coefficient\n",
    "correlation_coefficient = 0.8660254037844386\n",
    "\n",
    "# Calculate the coefficient of determination (R^2)\n",
    "r_squared = correlation_coefficient ** 2\n",
    "\n",
    "# Print the coefficient of determination (R^2)\n",
    "print(\"Coefficient of Determination (R^2):\", r_squared)\n",
    "print(\"Since there is no information or equation related to Independent variable C\")\n",
    "print(\"It is not possible to calculate the coefficient of determination between C and Y.\")\n"
   ]
  },
  {
   "cell_type": "code",
   "execution_count": 4,
   "id": "43ae6096",
   "metadata": {},
   "outputs": [
    {
     "name": "stdout",
     "output_type": "stream",
     "text": [
      "Standard error of estimate of X on Y and of Y on X\n",
      "-----------------------------------------------------\n",
      "However, the equations alone are not sufficient to calculate the standard error of estimate. \n",
      "You would need the actual data points to obtain the predicted values \n",
      "and then calculate the residuals to determine the standard error of estimate\n",
      "\n"
     ]
    }
   ],
   "source": [
    "#c\n",
    "print(\"Standard error of estimate of X on Y and of Y on X\")\n",
    "print(\"-----------------------------------------------------\")\n",
    "print(\"\"\"However, the equations alone are not sufficient to calculate the standard error of estimate. \n",
    "You would need the actual data points to obtain the predicted values \n",
    "and then calculate the residuals to determine the standard error of estimate\n",
    "\"\"\")"
   ]
  },
  {
   "cell_type": "code",
   "execution_count": null,
   "id": "81660959",
   "metadata": {},
   "outputs": [],
   "source": []
  }
 ],
 "metadata": {
  "kernelspec": {
   "display_name": "Python 3 (ipykernel)",
   "language": "python",
   "name": "python3"
  },
  "language_info": {
   "codemirror_mode": {
    "name": "ipython",
    "version": 3
   },
   "file_extension": ".py",
   "mimetype": "text/x-python",
   "name": "python",
   "nbconvert_exporter": "python",
   "pygments_lexer": "ipython3",
   "version": "3.10.9"
  }
 },
 "nbformat": 4,
 "nbformat_minor": 5
}
