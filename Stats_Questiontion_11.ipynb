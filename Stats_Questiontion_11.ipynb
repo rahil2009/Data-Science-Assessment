{
 "cells": [
  {
   "cell_type": "code",
   "execution_count": null,
   "metadata": {},
   "outputs": [],
   "source": []
  },
  {
   "cell_type": "markdown",
   "metadata": {},
   "source": [
    "Q-11. Given the data of a feature contributing to different classes\n",
    "\n",
    "https://drive.google.com/file/d/1mCjtYHiX--mMUjicuaP2gH3k-SnFxt8Y/view?usp\n",
    "=share_\n",
    "\n",
    "a. Check whether the distribution of all the classes are the same or not.\n",
    "b. Check for the equality of variance/\n",
    "c. Which amount LDA and QDA would perform better on this data for\n",
    "classification and why.\n",
    "d. Check the equality of mean for between all the classes."
   ]
  },
  {
   "cell_type": "code",
   "execution_count": null,
   "metadata": {},
   "outputs": [],
   "source": []
  }
 ],
 "metadata": {
  "kernelspec": {
   "display_name": "Python 3.10.9",
   "language": "python",
   "name": "python3"
  },
  "language_info": {
   "name": "python",
   "version": "3.10.9"
  },
  "orig_nbformat": 4,
  "vscode": {
   "interpreter": {
    "hash": "3c06e3e46abf38078fe4dac36a0085ec2b134ebbd73dd076183d243eeca6918f"
   }
  }
 },
 "nbformat": 4,
 "nbformat_minor": 2
}
