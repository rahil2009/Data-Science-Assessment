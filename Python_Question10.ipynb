{
  "nbformat": 4,
  "nbformat_minor": 0,
  "metadata": {
    "colab": {
      "provenance": []
    },
    "kernelspec": {
      "name": "python3",
      "display_name": "Python 3"
    },
    "language_info": {
      "name": "python"
    }
  },
  "cells": [
    {
      "cell_type": "markdown",
      "source": [
        "Question 10 -\n",
        "\n",
        "Write a program to count the number of verbs, nouns, pronouns, and adjectives in a given particular phrase or paragraph, and return their respective count as a dictionary."
      ],
      "metadata": {
        "id": "WK0AfUCB7aI1"
      }
    },
    {
      "cell_type": "code",
      "execution_count": 3,
      "metadata": {
        "colab": {
          "base_uri": "https://localhost:8080/"
        },
        "id": "O8QN_PV16523",
        "outputId": "e5aca3df-8bad-4dec-b483-d73e9fb898da"
      },
      "outputs": [
        {
          "output_type": "stream",
          "name": "stderr",
          "text": [
            "[nltk_data] Downloading package punkt to /root/nltk_data...\n",
            "[nltk_data]   Package punkt is already up-to-date!\n",
            "[nltk_data] Downloading package averaged_perceptron_tagger to\n",
            "[nltk_data]     /root/nltk_data...\n",
            "[nltk_data]   Unzipping taggers/averaged_perceptron_tagger.zip.\n"
          ]
        },
        {
          "output_type": "stream",
          "name": "stdout",
          "text": [
            "*********************************Test Case 1**********************************\n",
            "{'verbs': 3, 'nouns': 4, 'pronouns': 1, 'adjectives': 3}\n",
            "*********************************Test Case 1**********************************\n",
            "{'verbs': 0, 'nouns': 10, 'pronouns': 0, 'adjectives': 1}\n"
          ]
        }
      ],
      "source": [
        "import nltk\n",
        "from nltk.tokenize import word_tokenize\n",
        "from nltk.tag import pos_tag\n",
        "nltk.download('punkt')\n",
        "nltk.download(\"averaged_perceptron_tagger\")\n",
        "def count_pos_tags(text):\n",
        "    # Tokenize the text into words\n",
        "    words = word_tokenize(text)\n",
        "    \n",
        "    # Perform part-of-speech tagging\n",
        "    tagged_words = pos_tag(words)\n",
        "    \n",
        "    # Initialize counts dictionary\n",
        "    counts = {\n",
        "        'verbs': 0,\n",
        "        'nouns': 0,\n",
        "        'pronouns': 0,\n",
        "        'adjectives': 0\n",
        "    }\n",
        "    \n",
        "    for word, tag in tagged_words:\n",
        "        if tag.startswith('VB'):  # Verb tags start with 'VB'\n",
        "            counts['verbs'] += 1\n",
        "        elif tag.startswith('NN'):  # Noun tags start with 'NN'\n",
        "            counts['nouns'] += 1\n",
        "        elif tag.startswith('PR'):  # Pronoun tags start with 'PR'\n",
        "            counts['pronouns'] += 1\n",
        "        elif tag.startswith('JJ'):  # Adjective tags start with 'JJ'\n",
        "            counts['adjectives'] += 1\n",
        "    \n",
        "    return counts\n",
        "print(\"*********************************Test Case 1**********************************\")\n",
        "text1 = \"The quick brown fox jumps over the lazy dog. He loves to eat delicious food.\"\n",
        "pos_counts = count_pos_tags(text1)\n",
        "print(pos_counts)\n",
        "\n",
        "print(\"*********************************Test Case 1**********************************\")\n",
        "text2 = \"Meet Sudhanshu Kumar And Krish Naik Of iNeuron, New Heroes Of Indian EdTech Industry\"\n",
        "pos_counts = count_pos_tags(text2)\n",
        "print(pos_counts)"
      ]
    },
    {
      "cell_type": "code",
      "source": [],
      "metadata": {
        "id": "FfPMnd1-6-qm"
      },
      "execution_count": null,
      "outputs": []
    }
  ]
}